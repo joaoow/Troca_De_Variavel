{
  "nbformat": 4,
  "nbformat_minor": 0,
  "metadata": {
    "colab": {
      "provenance": []
    },
    "kernelspec": {
      "name": "python3",
      "display_name": "Python 3"
    },
    "language_info": {
      "name": "python"
    }
  },
  "cells": [
    {
      "cell_type": "code",
      "execution_count": 2,
      "metadata": {
        "colab": {
          "base_uri": "https://localhost:8080/"
        },
        "id": "YeIssfNF53Mj",
        "outputId": "b4d4f6cd-8d7b-4854-961c-6618ec7179f5"
      },
      "outputs": [
        {
          "output_type": "stream",
          "name": "stdout",
          "text": [
            "O valor da variável a é: 2\n",
            "O valor da variável b é: 1\n",
            "O valor da variável a é: 1\n",
            "O valor da variável b é: 2\n"
          ]
        }
      ],
      "source": [
        "a = 1\n",
        "b = 2\n",
        "# troca de variáveis usando variável auxiliar ‘temp’\n",
        "temp = a\n",
        "a = b\n",
        "b = temp\n",
        "print(f\"O valor da variável a é: {a}\")\n",
        "print(f\"O valor da variável b é: {b}\")\n",
        "\n",
        "# troca de variáveis através de atribuição múltipla\n",
        "a, b = b, a\n",
        "print(f\"O valor da variável a é: {a}\")\n",
        "print(f\"O valor da variável b é: {b}\")"
      ]
    }
  ]
}